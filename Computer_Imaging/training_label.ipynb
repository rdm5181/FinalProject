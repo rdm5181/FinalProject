{
 "cells": [
  {
   "cell_type": "code",
   "execution_count": 1,
   "id": "0844a8e5",
   "metadata": {},
   "outputs": [],
   "source": [
    "import numpy as np\n",
    "import pandas as pd"
   ]
  },
  {
   "cell_type": "code",
   "execution_count": 2,
   "id": "0182733d",
   "metadata": {},
   "outputs": [],
   "source": [
    "a = [\"Building\"]"
   ]
  },
  {
   "cell_type": "code",
   "execution_count": 3,
   "id": "85a9f4d7",
   "metadata": {},
   "outputs": [],
   "source": [
    "label_building_series = pd.Series(a)"
   ]
  },
  {
   "cell_type": "code",
   "execution_count": 24,
   "id": "e5dbe659",
   "metadata": {},
   "outputs": [],
   "source": [
    "label_testing = pd.concat([label_building_series] * 1897, axis=0)"
   ]
  },
  {
   "cell_type": "code",
   "execution_count": 25,
   "id": "8a0f371e",
   "metadata": {},
   "outputs": [],
   "source": [
    "b = [\"Other\"]"
   ]
  },
  {
   "cell_type": "code",
   "execution_count": 26,
   "id": "36a2c03a",
   "metadata": {},
   "outputs": [],
   "source": [
    "label_other_series = pd.Series(b)"
   ]
  },
  {
   "cell_type": "code",
   "execution_count": 27,
   "id": "d45351ec",
   "metadata": {},
   "outputs": [],
   "source": [
    "label_other = pd.concat([label_other_series]*3166, axis=0)"
   ]
  },
  {
   "cell_type": "code",
   "execution_count": 28,
   "id": "cd07e849",
   "metadata": {},
   "outputs": [],
   "source": [
    "label_testing = label_testing.append(label_other, ignore_index=True)"
   ]
  },
  {
   "cell_type": "code",
   "execution_count": 29,
   "id": "46990f33",
   "metadata": {},
   "outputs": [
    {
     "data": {
      "text/plain": [
       "0       Building\n",
       "1       Building\n",
       "2       Building\n",
       "3       Building\n",
       "4       Building\n",
       "          ...   \n",
       "5058       Other\n",
       "5059       Other\n",
       "5060       Other\n",
       "5061       Other\n",
       "5062       Other\n",
       "Length: 5063, dtype: object"
      ]
     },
     "execution_count": 29,
     "metadata": {},
     "output_type": "execute_result"
    }
   ],
   "source": [
    "label_testing"
   ]
  },
  {
   "cell_type": "code",
   "execution_count": 30,
   "id": "f07c91bf",
   "metadata": {},
   "outputs": [],
   "source": [
    "label_training.to_csv('testing_labels.csv', index=False,) "
   ]
  },
  {
   "cell_type": "code",
   "execution_count": null,
   "id": "cf623062",
   "metadata": {},
   "outputs": [],
   "source": []
  }
 ],
 "metadata": {
  "kernelspec": {
   "display_name": "Python 3 (ipykernel)",
   "language": "python",
   "name": "python3"
  },
  "language_info": {
   "codemirror_mode": {
    "name": "ipython",
    "version": 3
   },
   "file_extension": ".py",
   "mimetype": "text/x-python",
   "name": "python",
   "nbconvert_exporter": "python",
   "pygments_lexer": "ipython3",
   "version": "3.7.1"
  }
 },
 "nbformat": 4,
 "nbformat_minor": 5
}
