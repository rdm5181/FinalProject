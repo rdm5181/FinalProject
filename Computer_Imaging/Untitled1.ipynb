{
 "cells": [
  {
   "cell_type": "code",
   "execution_count": 1,
   "id": "d94d6c16",
   "metadata": {},
   "outputs": [],
   "source": [
    "import numpy as np\n",
    "import pandas as pd"
   ]
  },
  {
   "cell_type": "code",
   "execution_count": 2,
   "id": "baa168c6",
   "metadata": {},
   "outputs": [],
   "source": [
    "a = [\"Building\"]"
   ]
  },
  {
   "cell_type": "code",
   "execution_count": 3,
   "id": "3255dc25",
   "metadata": {},
   "outputs": [],
   "source": [
    "label_building_series = pd.Series(a)"
   ]
  },
  {
   "cell_type": "code",
   "execution_count": 9,
   "id": "61afb39d",
   "metadata": {},
   "outputs": [],
   "source": [
    "label_training = pd.concat([label_building_series] * 72, axis=0)"
   ]
  },
  {
   "cell_type": "code",
   "execution_count": 10,
   "id": "164abad7",
   "metadata": {},
   "outputs": [],
   "source": [
    "b = [\"Other\"]"
   ]
  },
  {
   "cell_type": "code",
   "execution_count": 11,
   "id": "a8b36e2b",
   "metadata": {},
   "outputs": [],
   "source": [
    "label_other_series = pd.Series(b)"
   ]
  },
  {
   "cell_type": "code",
   "execution_count": 12,
   "id": "575595cd",
   "metadata": {},
   "outputs": [],
   "source": [
    "label_other = pd.concat([label_other_series]*88, axis=0)"
   ]
  },
  {
   "cell_type": "code",
   "execution_count": 13,
   "id": "d0f02df5",
   "metadata": {},
   "outputs": [],
   "source": [
    "label_training = label_training.append(label_other, ignore_index=True)"
   ]
  },
  {
   "cell_type": "code",
   "execution_count": 14,
   "id": "fc7713ed",
   "metadata": {},
   "outputs": [
    {
     "data": {
      "text/plain": [
       "0      Building\n",
       "1      Building\n",
       "2      Building\n",
       "3      Building\n",
       "4      Building\n",
       "         ...   \n",
       "155       Other\n",
       "156       Other\n",
       "157       Other\n",
       "158       Other\n",
       "159       Other\n",
       "Length: 160, dtype: object"
      ]
     },
     "execution_count": 14,
     "metadata": {},
     "output_type": "execute_result"
    }
   ],
   "source": [
    "label_training"
   ]
  },
  {
   "cell_type": "code",
   "execution_count": null,
   "id": "bf0b8f70",
   "metadata": {},
   "outputs": [],
   "source": [
    "label_training.to_csv('training_labels.csv', index=False,) "
   ]
  }
 ],
 "metadata": {
  "kernelspec": {
   "display_name": "Python 3 (ipykernel)",
   "language": "python",
   "name": "python3"
  },
  "language_info": {
   "codemirror_mode": {
    "name": "ipython",
    "version": 3
   },
   "file_extension": ".py",
   "mimetype": "text/x-python",
   "name": "python",
   "nbconvert_exporter": "python",
   "pygments_lexer": "ipython3",
   "version": "3.7.1"
  }
 },
 "nbformat": 4,
 "nbformat_minor": 5
}
