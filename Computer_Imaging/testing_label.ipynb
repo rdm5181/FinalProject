{
 "cells": [
  {
   "cell_type": "code",
   "execution_count": 1,
   "id": "d2b3d443",
   "metadata": {},
   "outputs": [],
   "source": [
    "import numpy as np\n",
    "import pandas as pd"
   ]
  },
  {
   "cell_type": "code",
   "execution_count": 2,
   "id": "45c568bb",
   "metadata": {},
   "outputs": [],
   "source": [
    "a = [\"Building\"]"
   ]
  },
  {
   "cell_type": "code",
   "execution_count": 3,
   "id": "7ec259d9",
   "metadata": {},
   "outputs": [],
   "source": [
    "label_building_series = pd.Series(a)"
   ]
  },
  {
   "cell_type": "code",
   "execution_count": 24,
   "id": "7825b067",
   "metadata": {},
   "outputs": [],
   "source": [
    "label_testing = pd.concat([label_building_series] * 1897, axis=0)"
   ]
  },
  {
   "cell_type": "code",
   "execution_count": 25,
   "id": "0b459ba3",
   "metadata": {},
   "outputs": [],
   "source": [
    "b = [\"Other\"]"
   ]
  },
  {
   "cell_type": "code",
   "execution_count": 26,
   "id": "76ad80b2",
   "metadata": {},
   "outputs": [],
   "source": [
    "label_other_series = pd.Series(b)"
   ]
  },
  {
   "cell_type": "code",
   "execution_count": 27,
   "id": "501b35d7",
   "metadata": {},
   "outputs": [],
   "source": [
    "label_other = pd.concat([label_other_series]*3166, axis=0)"
   ]
  },
  {
   "cell_type": "code",
   "execution_count": 28,
   "id": "dcad204d",
   "metadata": {},
   "outputs": [],
   "source": [
    "label_testing = label_testing.append(label_other, ignore_index=True)"
   ]
  },
  {
   "cell_type": "code",
   "execution_count": 29,
   "id": "b51246c1",
   "metadata": {},
   "outputs": [
    {
     "data": {
      "text/plain": [
       "0       Building\n",
       "1       Building\n",
       "2       Building\n",
       "3       Building\n",
       "4       Building\n",
       "          ...   \n",
       "5058       Other\n",
       "5059       Other\n",
       "5060       Other\n",
       "5061       Other\n",
       "5062       Other\n",
       "Length: 5063, dtype: object"
      ]
     },
     "execution_count": 29,
     "metadata": {},
     "output_type": "execute_result"
    }
   ],
   "source": [
    "label_testing"
   ]
  },
  {
   "cell_type": "code",
   "execution_count": 30,
   "id": "0cd12f08",
   "metadata": {},
   "outputs": [],
   "source": [
    "label_training.to_csv('testing_labels.csv', index=False,) "
   ]
  },
  {
   "cell_type": "code",
   "execution_count": null,
   "id": "d5837373",
   "metadata": {},
   "outputs": [],
   "source": []
  }
 ],
 "metadata": {
  "kernelspec": {
   "display_name": "Python 3 (ipykernel)",
   "language": "python",
   "name": "python3"
  },
  "language_info": {
   "codemirror_mode": {
    "name": "ipython",
    "version": 3
   },
   "file_extension": ".py",
   "mimetype": "text/x-python",
   "name": "python",
   "nbconvert_exporter": "python",
   "pygments_lexer": "ipython3",
   "version": "3.7.1"
  }
 },
 "nbformat": 4,
 "nbformat_minor": 5
}
